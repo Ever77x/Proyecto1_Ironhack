{
 "cells": [
  {
   "cell_type": "markdown",
   "id": "00c62613-55f5-4f48-913b-a05a6c1d18d3",
   "metadata": {},
   "source": [
    "# Juego del Ahorcado"
   ]
  },
  {
   "cell_type": "code",
   "execution_count": 7,
   "id": "cc8bcf96-b78e-49ea-a7a5-6b1df4eae34e",
   "metadata": {},
   "outputs": [],
   "source": [
    "palabras = [\"warzone\",\"cielo\", \"tierra\", \"aire\",\"ojos\",\"piel\",\"sueldo\",\"hormiga\",\"perro\",\"elegante\",\"feo\",\"tonto\",\"loco\",\"locura\",\"perro\",\"gato\"]"
   ]
  },
  {
   "cell_type": "code",
   "execution_count": 11,
   "id": "6916ebcc-89a5-4e89-87f6-10ddac2d2dc8",
   "metadata": {},
   "outputs": [],
   "source": [
    "import random\n",
    "import string "
   ]
  },
  {
   "cell_type": "code",
   "execution_count": 9,
   "id": "01e4a458-c090-430f-8a89-98c34ee85c0d",
   "metadata": {},
   "outputs": [],
   "source": [
    "def obtener_palabra_valida(palabras):\n",
    "    #Seleccionar una palabra alazar de la lista \n",
    "    palabra = random.choice(palabras)\n",
    "    \n",
    "    while '-' in palabra or ' ' in palabra:\n",
    "        palabra = random.choice(palabras)\n",
    "    \n",
    "    return palabra.upper()    "
   ]
  },
  {
   "cell_type": "code",
   "execution_count": 17,
   "id": "aecfe765-ed18-41ef-839e-67fce581e6f0",
   "metadata": {},
   "outputs": [],
   "source": [
    "def ahorcado(): ##no requiere ningun valor cuando la vamos a llamar\n",
    "    \n",
    "    print(\"======================================\")\n",
    "    print(\"  ¡Bienvenid@ al Juego del Ahorcado!  \")\n",
    "    print(\"======================================\")\n",
    "    \n",
    "    palabra = obtener_palabra_valida(palabras)\n",
    "    \n",
    "    letras_por_adivinar = set(palabra)\n",
    "    letras_adivinadas = set() \n",
    "    abecedario = set(string.ascii_uppercase) ## no contiene la Ñ\n",
    "    \n",
    "    vidas = 7 \n",
    "    \n",
    "    while len(letras_por_adivinar) > 0 and vidas > 0: \n",
    "            \n",
    "        print(f\"Te quedan {vidas} vidas y has usado estas letras: \\\n",
    "        {''.join(letras_adivinadas)}\")\n",
    "        \n",
    "        # mostrar estatus de la palabra -actual- \n",
    "        palabra_lista = [letra if letra in letras_adivinadas else '-' for letra in palabra]\n",
    "        # mostrar estado del ahorcado\n",
    "        print(vidas_diccionario_visual[vidas])\n",
    "        # mostrar las letras separadas por un espacio\n",
    "        print(f\"Palabra: {' '.join(palabra_lista)}\")\n",
    "        \n",
    "        letra_usuario = input(\"Escoge una letra: \").upper()\n",
    "        \n",
    "        #si la letra escogida por el usuario esta en el abecedario y no esta en el conjunto\n",
    "        #de letras que ya se han ingresado, se añade la letra al conjunto de las letras ingresadas\n",
    "        if letra_usuario in abecedario - letras_adivinadas:\n",
    "            letras_adivinadas.add(letra_usuario)\n",
    "            \n",
    "            # Si la letra esta en la palabra\n",
    "            # quitar la letra del conjunto de ltras pendientes por adivinar\n",
    "            # si no esta en la palabra quitar una vida al usuario\n",
    "            if letra_usuario in letras_por_adivinar:\n",
    "                letras_por_adivinar.remove(letra_usuario)\n",
    "                print('')\n",
    "            else:\n",
    "                vidas = vidas - 1 \n",
    "                print(f\"\\nTu letra, {letra_usuario} no esta en la palabra.\")\n",
    "        \n",
    "        # si la letra escogida por el usuairo ya fue ingresada\n",
    "        elif letra_usuario in letras_adivinadas:\n",
    "            print(\"\\nYa escogiste esa letra. Por favor escoge una letra nueva\")\n",
    "        else:\n",
    "            print(\"Esta letra no es valida.\")\n",
    "            \n",
    "    # El juego llega a esta linea cuando se adivinan todas las letras de la palabra\n",
    "    ## o cuando se agotan las vidas del jugador\n",
    "    \n",
    "    if vidas == 0:\n",
    "        print(vidas_diccionario_visual)\n",
    "        print(f\"¡Ahorcado! Perdiste. Lo lamento mucho. La palabra era: {palabra}\")\n",
    "    else:\n",
    "        print(f\"¡Ganaste! ¡Adivinitaste la palabra! {palabra}\")\n",
    "    "
   ]
  },
  {
   "cell_type": "code",
   "execution_count": 13,
   "id": "4f81f5a4-2c9e-4f4b-a1ab-16419d7a56f0",
   "metadata": {},
   "outputs": [],
   "source": [
    "vidas_diccionario_visual = {\n",
    "        0: \"\"\"\n",
    "                ___________\n",
    "               | /        | \n",
    "               |/        ( )\n",
    "               |          |\n",
    "               |         / \\\\\n",
    "               |\n",
    "           \"\"\",\n",
    "        1: \"\"\"\n",
    "                ___________\n",
    "               | /        | \n",
    "               |/        ( )\n",
    "               |          |\n",
    "               |         / \n",
    "               |\n",
    "            \"\"\",\n",
    "        2: \"\"\"\n",
    "                ___________\n",
    "               | /        | \n",
    "               |/        ( )\n",
    "               |          |\n",
    "               |          \n",
    "               |\n",
    "            \"\"\",\n",
    "        3: \"\"\"\n",
    "                ___________\n",
    "               | /        | \n",
    "               |/        ( )\n",
    "               |          \n",
    "               |          \n",
    "               |\n",
    "            \"\"\",\n",
    "        4: \"\"\"\n",
    "                ___________\n",
    "               | /        | \n",
    "               |/        \n",
    "               |          \n",
    "               |          \n",
    "               |\n",
    "            \"\"\",\n",
    "        5: \"\"\"\n",
    "                ___________\n",
    "               | /        \n",
    "               |/        \n",
    "               |          \n",
    "               |          \n",
    "               |\n",
    "            \"\"\",\n",
    "        6: \"\"\"\n",
    "               |\n",
    "               |\n",
    "               |\n",
    "               |\n",
    "               |\n",
    "            \"\"\",\n",
    "        7: \"\",\n",
    "    }"
   ]
  },
  {
   "cell_type": "code",
   "execution_count": 18,
   "id": "0c244048-b8f3-4e0c-a617-86b988142ed4",
   "metadata": {},
   "outputs": [
    {
     "name": "stdout",
     "output_type": "stream",
     "text": [
      "======================================\n",
      "  ¡Bienvenid@ al Juego del Ahorcado!  \n",
      "======================================\n",
      "Te quedan 7 vidas y has usado estas letras:         \n",
      "\n",
      "Palabra: - - - - - -\n"
     ]
    },
    {
     "name": "stdin",
     "output_type": "stream",
     "text": [
      "Escoge una letra:  a\n"
     ]
    },
    {
     "name": "stdout",
     "output_type": "stream",
     "text": [
      "\n",
      "Tu letra, A no esta en la palabra.\n",
      "Te quedan 6 vidas y has usado estas letras:         A\n",
      "\n",
      "               |\n",
      "               |\n",
      "               |\n",
      "               |\n",
      "               |\n",
      "            \n",
      "Palabra: - - - - - -\n"
     ]
    },
    {
     "name": "stdin",
     "output_type": "stream",
     "text": [
      "Escoge una letra:  g\n"
     ]
    },
    {
     "name": "stdout",
     "output_type": "stream",
     "text": [
      "\n",
      "Tu letra, G no esta en la palabra.\n",
      "Te quedan 5 vidas y has usado estas letras:         GA\n",
      "\n",
      "                ___________\n",
      "               | /        \n",
      "               |/        \n",
      "               |          \n",
      "               |          \n",
      "               |\n",
      "            \n",
      "Palabra: - - - - - -\n"
     ]
    },
    {
     "name": "stdin",
     "output_type": "stream",
     "text": [
      "Escoge una letra:  o\n"
     ]
    },
    {
     "name": "stdout",
     "output_type": "stream",
     "text": [
      "\n",
      "Te quedan 5 vidas y has usado estas letras:         GOA\n",
      "\n",
      "                ___________\n",
      "               | /        \n",
      "               |/        \n",
      "               |          \n",
      "               |          \n",
      "               |\n",
      "            \n",
      "Palabra: - - - - - O\n"
     ]
    },
    {
     "name": "stdin",
     "output_type": "stream",
     "text": [
      "Escoge una letra:  e\n"
     ]
    },
    {
     "name": "stdout",
     "output_type": "stream",
     "text": [
      "\n",
      "Te quedan 5 vidas y has usado estas letras:         EGOA\n",
      "\n",
      "                ___________\n",
      "               | /        \n",
      "               |/        \n",
      "               |          \n",
      "               |          \n",
      "               |\n",
      "            \n",
      "Palabra: - - E - - O\n"
     ]
    },
    {
     "name": "stdin",
     "output_type": "stream",
     "text": [
      "Escoge una letra:  s\n"
     ]
    },
    {
     "name": "stdout",
     "output_type": "stream",
     "text": [
      "\n",
      "Te quedan 5 vidas y has usado estas letras:         AGEOS\n",
      "\n",
      "                ___________\n",
      "               | /        \n",
      "               |/        \n",
      "               |          \n",
      "               |          \n",
      "               |\n",
      "            \n",
      "Palabra: S - E - - O\n"
     ]
    },
    {
     "name": "stdin",
     "output_type": "stream",
     "text": [
      "Escoge una letra:  p\n"
     ]
    },
    {
     "name": "stdout",
     "output_type": "stream",
     "text": [
      "\n",
      "Tu letra, P no esta en la palabra.\n",
      "Te quedan 4 vidas y has usado estas letras:         AGEOPS\n",
      "\n",
      "                ___________\n",
      "               | /        | \n",
      "               |/        \n",
      "               |          \n",
      "               |          \n",
      "               |\n",
      "            \n",
      "Palabra: S - E - - O\n"
     ]
    },
    {
     "name": "stdin",
     "output_type": "stream",
     "text": [
      "Escoge una letra:  t\n"
     ]
    },
    {
     "name": "stdout",
     "output_type": "stream",
     "text": [
      "\n",
      "Tu letra, T no esta en la palabra.\n",
      "Te quedan 3 vidas y has usado estas letras:         TAGEOPS\n",
      "\n",
      "                ___________\n",
      "               | /        | \n",
      "               |/        ( )\n",
      "               |          \n",
      "               |          \n",
      "               |\n",
      "            \n",
      "Palabra: S - E - - O\n"
     ]
    },
    {
     "name": "stdin",
     "output_type": "stream",
     "text": [
      "Escoge una letra:  l\n"
     ]
    },
    {
     "name": "stdout",
     "output_type": "stream",
     "text": [
      "\n",
      "Te quedan 3 vidas y has usado estas letras:         TLAGEOPS\n",
      "\n",
      "                ___________\n",
      "               | /        | \n",
      "               |/        ( )\n",
      "               |          \n",
      "               |          \n",
      "               |\n",
      "            \n",
      "Palabra: S - E L - O\n"
     ]
    },
    {
     "name": "stdin",
     "output_type": "stream",
     "text": [
      "Escoge una letra:  u\n"
     ]
    },
    {
     "name": "stdout",
     "output_type": "stream",
     "text": [
      "\n",
      "Te quedan 3 vidas y has usado estas letras:         UTLAGEOPS\n",
      "\n",
      "                ___________\n",
      "               | /        | \n",
      "               |/        ( )\n",
      "               |          \n",
      "               |          \n",
      "               |\n",
      "            \n",
      "Palabra: S U E L - O\n"
     ]
    },
    {
     "name": "stdin",
     "output_type": "stream",
     "text": [
      "Escoge una letra:  l\n"
     ]
    },
    {
     "name": "stdout",
     "output_type": "stream",
     "text": [
      "\n",
      "Ya escogiste esa letra. Por favor escoge una letra nueva\n",
      "Te quedan 3 vidas y has usado estas letras:         UTLAGEOPS\n",
      "\n",
      "                ___________\n",
      "               | /        | \n",
      "               |/        ( )\n",
      "               |          \n",
      "               |          \n",
      "               |\n",
      "            \n",
      "Palabra: S U E L - O\n"
     ]
    },
    {
     "name": "stdin",
     "output_type": "stream",
     "text": [
      "Escoge una letra:  d\n"
     ]
    },
    {
     "name": "stdout",
     "output_type": "stream",
     "text": [
      "\n",
      "¡Ganaste! ¡Adivinitaste la palabra! SUELDO\n"
     ]
    }
   ],
   "source": [
    "ahorcado()"
   ]
  },
  {
   "cell_type": "code",
   "execution_count": 19,
   "id": "d2f4210b-0cae-43ba-ae7e-65be1495e64d",
   "metadata": {},
   "outputs": [
    {
     "name": "stdout",
     "output_type": "stream",
     "text": [
      "======================================\n",
      "  ¡Bienvenid@ al Juego del Ahorcado!  \n",
      "======================================\n",
      "Te quedan 7 vidas y has usado estas letras:         \n",
      "\n",
      "Palabra: - - - - -\n"
     ]
    },
    {
     "name": "stdin",
     "output_type": "stream",
     "text": [
      "Escoge una letra:  a\n"
     ]
    },
    {
     "name": "stdout",
     "output_type": "stream",
     "text": [
      "\n",
      "Tu letra, A no esta en la palabra.\n",
      "Te quedan 6 vidas y has usado estas letras:         A\n",
      "\n",
      "               |\n",
      "               |\n",
      "               |\n",
      "               |\n",
      "               |\n",
      "            \n",
      "Palabra: - - - - -\n"
     ]
    },
    {
     "name": "stdin",
     "output_type": "stream",
     "text": [
      "Escoge una letra:  e\n"
     ]
    },
    {
     "name": "stdout",
     "output_type": "stream",
     "text": [
      "\n",
      "Tu letra, E no esta en la palabra.\n",
      "Te quedan 5 vidas y has usado estas letras:         EA\n",
      "\n",
      "                ___________\n",
      "               | /        \n",
      "               |/        \n",
      "               |          \n",
      "               |          \n",
      "               |\n",
      "            \n",
      "Palabra: - - - - -\n"
     ]
    },
    {
     "name": "stdin",
     "output_type": "stream",
     "text": [
      "Escoge una letra:  i\n"
     ]
    },
    {
     "name": "stdout",
     "output_type": "stream",
     "text": [
      "\n",
      "Tu letra, I no esta en la palabra.\n",
      "Te quedan 4 vidas y has usado estas letras:         IEA\n",
      "\n",
      "                ___________\n",
      "               | /        | \n",
      "               |/        \n",
      "               |          \n",
      "               |          \n",
      "               |\n",
      "            \n",
      "Palabra: - - - - -\n"
     ]
    },
    {
     "name": "stdin",
     "output_type": "stream",
     "text": [
      "Escoge una letra:  o\n"
     ]
    },
    {
     "name": "stdout",
     "output_type": "stream",
     "text": [
      "\n",
      "Te quedan 4 vidas y has usado estas letras:         OIEA\n",
      "\n",
      "                ___________\n",
      "               | /        | \n",
      "               |/        \n",
      "               |          \n",
      "               |          \n",
      "               |\n",
      "            \n",
      "Palabra: - O - - O\n"
     ]
    },
    {
     "name": "stdin",
     "output_type": "stream",
     "text": [
      "Escoge una letra:  u\n"
     ]
    },
    {
     "name": "stdout",
     "output_type": "stream",
     "text": [
      "\n",
      "Tu letra, U no esta en la palabra.\n",
      "Te quedan 3 vidas y has usado estas letras:         UAIOE\n",
      "\n",
      "                ___________\n",
      "               | /        | \n",
      "               |/        ( )\n",
      "               |          \n",
      "               |          \n",
      "               |\n",
      "            \n",
      "Palabra: - O - - O\n"
     ]
    },
    {
     "name": "stdin",
     "output_type": "stream",
     "text": [
      "Escoge una letra:  z\n"
     ]
    },
    {
     "name": "stdout",
     "output_type": "stream",
     "text": [
      "\n",
      "Tu letra, Z no esta en la palabra.\n",
      "Te quedan 2 vidas y has usado estas letras:         UAIZOE\n",
      "\n",
      "                ___________\n",
      "               | /        | \n",
      "               |/        ( )\n",
      "               |          |\n",
      "               |          \n",
      "               |\n",
      "            \n",
      "Palabra: - O - - O\n"
     ]
    },
    {
     "name": "stdin",
     "output_type": "stream",
     "text": [
      "Escoge una letra:  d\n"
     ]
    },
    {
     "name": "stdout",
     "output_type": "stream",
     "text": [
      "\n",
      "Tu letra, D no esta en la palabra.\n",
      "Te quedan 1 vidas y has usado estas letras:         UAIZDOE\n",
      "\n",
      "                ___________\n",
      "               | /        | \n",
      "               |/        ( )\n",
      "               |          |\n",
      "               |         / \n",
      "               |\n",
      "            \n",
      "Palabra: - O - - O\n"
     ]
    },
    {
     "name": "stdin",
     "output_type": "stream",
     "text": [
      "Escoge una letra:  t\n"
     ]
    },
    {
     "name": "stdout",
     "output_type": "stream",
     "text": [
      "\n",
      "Te quedan 1 vidas y has usado estas letras:         UTAIZDOE\n",
      "\n",
      "                ___________\n",
      "               | /        | \n",
      "               |/        ( )\n",
      "               |          |\n",
      "               |         / \n",
      "               |\n",
      "            \n",
      "Palabra: T O - T O\n"
     ]
    },
    {
     "name": "stdin",
     "output_type": "stream",
     "text": [
      "Escoge una letra:  p\n"
     ]
    },
    {
     "name": "stdout",
     "output_type": "stream",
     "text": [
      "\n",
      "Tu letra, P no esta en la palabra.\n",
      "{0: '\\n                ___________\\n               | /        | \\n               |/        ( )\\n               |          |\\n               |         / \\\\\\n               |\\n           ', 1: '\\n                ___________\\n               | /        | \\n               |/        ( )\\n               |          |\\n               |         / \\n               |\\n            ', 2: '\\n                ___________\\n               | /        | \\n               |/        ( )\\n               |          |\\n               |          \\n               |\\n            ', 3: '\\n                ___________\\n               | /        | \\n               |/        ( )\\n               |          \\n               |          \\n               |\\n            ', 4: '\\n                ___________\\n               | /        | \\n               |/        \\n               |          \\n               |          \\n               |\\n            ', 5: '\\n                ___________\\n               | /        \\n               |/        \\n               |          \\n               |          \\n               |\\n            ', 6: '\\n               |\\n               |\\n               |\\n               |\\n               |\\n            ', 7: ''}\n",
      "¡Ahorcado! Perdiste. Lo lamento mucho. La palabra era: TONTO\n"
     ]
    }
   ],
   "source": [
    "ahorcado()"
   ]
  },
  {
   "cell_type": "code",
   "execution_count": null,
   "id": "ce9b0574-9fc7-4719-b4b7-38e3880bd8ac",
   "metadata": {},
   "outputs": [],
   "source": []
  }
 ],
 "metadata": {
  "kernelspec": {
   "display_name": "Python 3",
   "language": "python",
   "name": "python3"
  },
  "language_info": {
   "codemirror_mode": {
    "name": "ipython",
    "version": 3
   },
   "file_extension": ".py",
   "mimetype": "text/x-python",
   "name": "python",
   "nbconvert_exporter": "python",
   "pygments_lexer": "ipython3",
   "version": "3.8.8"
  }
 },
 "nbformat": 4,
 "nbformat_minor": 5
}
