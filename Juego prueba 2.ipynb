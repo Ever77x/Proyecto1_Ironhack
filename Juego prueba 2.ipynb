{
 "cells": [
  {
   "cell_type": "markdown",
   "id": "87936ae8-ce27-44e0-b68a-284091c9ea93",
   "metadata": {},
   "source": [
    "# Juego 2"
   ]
  },
  {
   "cell_type": "code",
   "execution_count": 9,
   "id": "e6912d13-3585-4f00-b8ef-6d165f1809d9",
   "metadata": {},
   "outputs": [],
   "source": [
    "## este juego la computadora nos va a adivinar el numero (un numero que este en la mente)"
   ]
  },
  {
   "cell_type": "code",
   "execution_count": 2,
   "id": "6a878644-2cae-4f0d-8c8e-de0df5b02c42",
   "metadata": {},
   "outputs": [],
   "source": [
    "import random"
   ]
  },
  {
   "cell_type": "code",
   "execution_count": null,
   "id": "89e97ea6-1145-4625-afaf-5317549831ca",
   "metadata": {},
   "outputs": [],
   "source": [
    "def adivina_computadora(x):\n",
    "    \n",
    "    print()\n",
    "    \n",
    "    print(\"=========================\")\n",
    "    print(\"  ¡Bienvenid@ al Juego!  \")\n",
    "    print(\"=========================\")\n",
    "    print(f'''Selecciona un numero entre 1 y {x} para que la computadora \n",
    "          intente adivinarlo''')\n",
    "    \n",
    "    limite_inferior = 1 # intervalo [1,x]\n",
    "    limite_superior = x \n",
    "    \n",
    "    respuesta = \"\"\n",
    "    while respuesta != \"c\": \n",
    "        #generar una prediccion \n",
    "        if limite_inferior != limite_superior:\n",
    "            prediccion = random.randint(limite_inferior, limite_superior)\n",
    "        else:\n",
    "            prediccion = limite_inferior\n",
    "            \n",
    "        #Obtener respuesta del usuario \n",
    "        respuesta = input(f\"\"\"Mi prediccion es {prediccion}. Si es muy alta ingresa (A). \n",
    "        Si es muy baja ingresa (B). Si es correcta ingresa (C): \"\"\").lower()\n",
    "        \n",
    "        if respuesta == \"a\":\n",
    "            limite_superior = prediccion - 1\n",
    "        elif respuesta == \"b\":\n",
    "            limite_inferior = prediccion + 1\n",
    "        \n",
    "        ##ejemplo\n",
    "        ## intervalo incial ejemplo: [1,10]\n",
    "        ## Prediccion : 6\n",
    "        ## Respuesta : \"a\"\n",
    "        ## Intervalo : [1,5]\n",
    "     \n",
    "    print(f\"¡Siiiii! La computadora adivino tu numero correctamente: {prediccion}\")"
   ]
  },
  {
   "cell_type": "code",
   "execution_count": 8,
   "id": "c05754c8-2133-4362-bae5-769e9cfb80b4",
   "metadata": {},
   "outputs": [
    {
     "name": "stdout",
     "output_type": "stream",
     "text": [
      "\n",
      "=========================\n",
      "  ¡Bienvenid@ al Juego!  \n",
      "=========================\n",
      "Selecciona un numero entre 1 y 10 para que la computadora \n",
      "          intente adivinarlo\n"
     ]
    },
    {
     "name": "stdin",
     "output_type": "stream",
     "text": [
      "Mi prediccion es 1. Si es muy alta ingresa (A). \n",
      "        Si es muy baja ingresa (B). Si es correcta ingresa (C) b\n",
      "Mi prediccion es 7. Si es muy alta ingresa (A). \n",
      "        Si es muy baja ingresa (B). Si es correcta ingresa (C) b\n",
      "Mi prediccion es 9. Si es muy alta ingresa (A). \n",
      "        Si es muy baja ingresa (B). Si es correcta ingresa (C) b\n",
      "Mi prediccion es 10. Si es muy alta ingresa (A). \n",
      "        Si es muy baja ingresa (B). Si es correcta ingresa (C) c\n"
     ]
    },
    {
     "name": "stdout",
     "output_type": "stream",
     "text": [
      "¡Siiiii! La computadora adivino tu numero correctamente: 10\n"
     ]
    }
   ],
   "source": [
    "adivina_computadora(10)"
   ]
  },
  {
   "cell_type": "code",
   "execution_count": null,
   "id": "ac0773d9-d6c4-483f-9013-6018efd017ea",
   "metadata": {},
   "outputs": [],
   "source": []
  }
 ],
 "metadata": {
  "kernelspec": {
   "display_name": "Python 3",
   "language": "python",
   "name": "python3"
  },
  "language_info": {
   "codemirror_mode": {
    "name": "ipython",
    "version": 3
   },
   "file_extension": ".py",
   "mimetype": "text/x-python",
   "name": "python",
   "nbconvert_exporter": "python",
   "pygments_lexer": "ipython3",
   "version": "3.8.8"
  }
 },
 "nbformat": 4,
 "nbformat_minor": 5
}
