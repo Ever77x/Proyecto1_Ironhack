{
 "cells": [
  {
   "cell_type": "markdown",
   "id": "18688832-d102-4d33-bf7f-3b4e95fd173e",
   "metadata": {},
   "source": [
    "Juego 1 - Yo debo adivinar un numero generado por la computadora"
   ]
  },
  {
   "cell_type": "markdown",
   "id": "3ece8965-6781-444b-89f9-859fd18ea020",
   "metadata": {},
   "source": [
    "## adivina el numero"
   ]
  },
  {
   "cell_type": "code",
   "execution_count": 8,
   "id": "96a374dd-08a3-4515-b6e1-5e6f895ecf5f",
   "metadata": {},
   "outputs": [],
   "source": [
    "import random"
   ]
  },
  {
   "cell_type": "code",
   "execution_count": 9,
   "id": "bf1e4204-0e83-470a-be08-5fc1aac19c36",
   "metadata": {},
   "outputs": [],
   "source": [
    "def adivina (x): ## <-- limite superior \n",
    "    \n",
    "    print(\"=========================\")\n",
    "    print(\"  ¡Bienvenid@ al Juego!  \")\n",
    "    print(\"=========================\")\n",
    "    print(\"\"\"Tu meta: Es adivinar el numero generado por\n",
    "          la computadora\"\"\")\n",
    "    \n",
    "    numero_aleatorio = random.randint(1,x) ## <-- generar numeros enteros aleatorios \n",
    "    ## <-- en numeros aleatorios estoy poniendo el numero inferior y el numero superior -x-\n",
    "    \n",
    "    prediccion = 0 ## el valor inicial es 0 para que no coincida con el numero aleatorio \n",
    "    \n",
    "    while prediccion != numero_aleatorio: ## mientras la prediccion sea distinta a aleatorio hacer un proceso\n",
    "        #el usuario ingresa un numero\n",
    "        prediccion = int(input(f\"Adivina un numero entre 1 y {x}: \"))  ## f-string\n",
    "        \n",
    "        if prediccion < numero_aleatorio:\n",
    "            print(\"Intenta otro vez. Este numero es menor al que debes adivinar.\")\n",
    "        elif prediccion > numero_aleatorio:\n",
    "            print(\"Intenta otro vez. Este numero es mayor al que debes adivinar.\")\n",
    "        \n",
    "    print(f\"¡Felicitaciones! Adivinaste el numero {numero_aleatorio} correctamente\")\n",
    "    "
   ]
  },
  {
   "cell_type": "code",
   "execution_count": null,
   "id": "d526aa06-e349-47ae-8413-bf38aeadbe04",
   "metadata": {},
   "outputs": [
    {
     "name": "stdout",
     "output_type": "stream",
     "text": [
      "=========================\n",
      "  ¡Bienvenid@ al Juego!  \n",
      "=========================\n",
      "Tu meta: Es adivinar el numero generado por\n",
      "          la computadora\n"
     ]
    }
   ],
   "source": [
    "adivina(10)"
   ]
  },
  {
   "cell_type": "code",
   "execution_count": null,
   "id": "1ab6d467-5a16-481d-9d8d-b1b64c9fb2da",
   "metadata": {},
   "outputs": [],
   "source": []
  }
 ],
 "metadata": {
  "kernelspec": {
   "display_name": "Python 3",
   "language": "python",
   "name": "python3"
  },
  "language_info": {
   "codemirror_mode": {
    "name": "ipython",
    "version": 3
   },
   "file_extension": ".py",
   "mimetype": "text/x-python",
   "name": "python",
   "nbconvert_exporter": "python",
   "pygments_lexer": "ipython3",
   "version": "3.8.8"
  }
 },
 "nbformat": 4,
 "nbformat_minor": 5
}
