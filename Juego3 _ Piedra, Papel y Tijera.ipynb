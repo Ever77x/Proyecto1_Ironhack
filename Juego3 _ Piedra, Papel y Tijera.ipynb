{
 "cells": [
  {
   "cell_type": "markdown",
   "id": "48d75e62-2b93-46dd-9981-991f988e3ce9",
   "metadata": {},
   "source": [
    "# Juego de Piedra, Papel o Tijera"
   ]
  },
  {
   "cell_type": "code",
   "execution_count": 2,
   "id": "08f0f20a-41e7-4c3a-b53f-40db841d659a",
   "metadata": {},
   "outputs": [],
   "source": [
    "import random"
   ]
  },
  {
   "cell_type": "code",
   "execution_count": 4,
   "id": "57e089e4-07f8-4444-9d7b-74d3d358e141",
   "metadata": {},
   "outputs": [
    {
     "ename": "KeyboardInterrupt",
     "evalue": "Interrupted by user",
     "output_type": "error",
     "traceback": [
      "\u001b[0;31m---------------------------------------------------------------------------\u001b[0m",
      "\u001b[0;31mKeyboardInterrupt\u001b[0m                         Traceback (most recent call last)",
      "\u001b[0;32m<ipython-input-4-f0f105072d3e>\u001b[0m in \u001b[0;36m<module>\u001b[0;34m\u001b[0m\n\u001b[1;32m     29\u001b[0m         \u001b[0;32mreturn\u001b[0m \u001b[0;32mFalse\u001b[0m\u001b[0;34m\u001b[0m\u001b[0;34m\u001b[0m\u001b[0m\n\u001b[1;32m     30\u001b[0m \u001b[0;34m\u001b[0m\u001b[0m\n\u001b[0;32m---> 31\u001b[0;31m \u001b[0mprint\u001b[0m\u001b[0;34m(\u001b[0m\u001b[0mjugar\u001b[0m\u001b[0;34m(\u001b[0m\u001b[0;34m)\u001b[0m\u001b[0;34m)\u001b[0m\u001b[0;34m\u001b[0m\u001b[0;34m\u001b[0m\u001b[0m\n\u001b[0m",
      "\u001b[0;32m<ipython-input-4-f0f105072d3e>\u001b[0m in \u001b[0;36mjugar\u001b[0;34m()\u001b[0m\n\u001b[1;32m      1\u001b[0m \u001b[0;32mdef\u001b[0m \u001b[0mjugar\u001b[0m\u001b[0;34m(\u001b[0m\u001b[0;34m)\u001b[0m\u001b[0;34m:\u001b[0m\u001b[0;34m\u001b[0m\u001b[0;34m\u001b[0m\u001b[0m\n\u001b[0;32m----> 2\u001b[0;31m     usuario = input(\"Escoge una opcion: 'pi' para piedra, \\\n\u001b[0m\u001b[1;32m      3\u001b[0m     'pa' para papel, 'ti' para tijera.\\n\").lower()\n\u001b[1;32m      4\u001b[0m \u001b[0;34m\u001b[0m\u001b[0m\n\u001b[1;32m      5\u001b[0m     \u001b[0mcomputadora\u001b[0m \u001b[0;34m=\u001b[0m \u001b[0mrandom\u001b[0m\u001b[0;34m.\u001b[0m\u001b[0mchoice\u001b[0m\u001b[0;34m(\u001b[0m\u001b[0;34m[\u001b[0m\u001b[0;34m'pi'\u001b[0m\u001b[0;34m,\u001b[0m \u001b[0;34m'pa'\u001b[0m\u001b[0;34m,\u001b[0m \u001b[0;34m'ti'\u001b[0m\u001b[0;34m]\u001b[0m\u001b[0;34m)\u001b[0m\u001b[0;34m\u001b[0m\u001b[0;34m\u001b[0m\u001b[0m\n",
      "\u001b[0;32m/opt/anaconda3/lib/python3.8/site-packages/ipykernel/kernelbase.py\u001b[0m in \u001b[0;36mraw_input\u001b[0;34m(self, prompt)\u001b[0m\n\u001b[1;32m    858\u001b[0m                 \u001b[0;34m\"raw_input was called, but this frontend does not support input requests.\"\u001b[0m\u001b[0;34m\u001b[0m\u001b[0;34m\u001b[0m\u001b[0m\n\u001b[1;32m    859\u001b[0m             )\n\u001b[0;32m--> 860\u001b[0;31m         return self._input_request(str(prompt),\n\u001b[0m\u001b[1;32m    861\u001b[0m             \u001b[0mself\u001b[0m\u001b[0;34m.\u001b[0m\u001b[0m_parent_ident\u001b[0m\u001b[0;34m,\u001b[0m\u001b[0;34m\u001b[0m\u001b[0;34m\u001b[0m\u001b[0m\n\u001b[1;32m    862\u001b[0m             \u001b[0mself\u001b[0m\u001b[0;34m.\u001b[0m\u001b[0m_parent_header\u001b[0m\u001b[0;34m,\u001b[0m\u001b[0;34m\u001b[0m\u001b[0;34m\u001b[0m\u001b[0m\n",
      "\u001b[0;32m/opt/anaconda3/lib/python3.8/site-packages/ipykernel/kernelbase.py\u001b[0m in \u001b[0;36m_input_request\u001b[0;34m(self, prompt, ident, parent, password)\u001b[0m\n\u001b[1;32m    902\u001b[0m             \u001b[0;32mexcept\u001b[0m \u001b[0mKeyboardInterrupt\u001b[0m\u001b[0;34m:\u001b[0m\u001b[0;34m\u001b[0m\u001b[0;34m\u001b[0m\u001b[0m\n\u001b[1;32m    903\u001b[0m                 \u001b[0;31m# re-raise KeyboardInterrupt, to truncate traceback\u001b[0m\u001b[0;34m\u001b[0m\u001b[0;34m\u001b[0m\u001b[0;34m\u001b[0m\u001b[0m\n\u001b[0;32m--> 904\u001b[0;31m                 \u001b[0;32mraise\u001b[0m \u001b[0mKeyboardInterrupt\u001b[0m\u001b[0;34m(\u001b[0m\u001b[0;34m\"Interrupted by user\"\u001b[0m\u001b[0;34m)\u001b[0m \u001b[0;32mfrom\u001b[0m \u001b[0;32mNone\u001b[0m\u001b[0;34m\u001b[0m\u001b[0;34m\u001b[0m\u001b[0m\n\u001b[0m\u001b[1;32m    905\u001b[0m             \u001b[0;32mexcept\u001b[0m \u001b[0mException\u001b[0m \u001b[0;32mas\u001b[0m \u001b[0me\u001b[0m\u001b[0;34m:\u001b[0m\u001b[0;34m\u001b[0m\u001b[0;34m\u001b[0m\u001b[0m\n\u001b[1;32m    906\u001b[0m                 \u001b[0mself\u001b[0m\u001b[0;34m.\u001b[0m\u001b[0mlog\u001b[0m\u001b[0;34m.\u001b[0m\u001b[0mwarning\u001b[0m\u001b[0;34m(\u001b[0m\u001b[0;34m\"Invalid Message:\"\u001b[0m\u001b[0;34m,\u001b[0m \u001b[0mexc_info\u001b[0m\u001b[0;34m=\u001b[0m\u001b[0;32mTrue\u001b[0m\u001b[0;34m)\u001b[0m\u001b[0;34m\u001b[0m\u001b[0;34m\u001b[0m\u001b[0m\n",
      "\u001b[0;31mKeyboardInterrupt\u001b[0m: Interrupted by user"
     ]
    }
   ],
   "source": [
    "def jugar():\n",
    "    usuario = input(\"Escoge una opcion: 'pi' para piedra, \\\n",
    "    'pa' para papel, 'ti' para tijera.\\n\").lower()\n",
    "    \n",
    "    computadora = random.choice(['pi', 'pa', 'ti'])\n",
    "    \n",
    "    if usuario == computadora: \n",
    "        return '¡Empate!'\n",
    "    \n",
    "    if gano_el_jugador(usuario, computadora):\n",
    "        return '¡Ganaste!'\n",
    "    \n",
    "    return '¡Perdiste!'\n",
    "\n",
    "\n",
    "\n",
    "def gano_el_jugador(jugador,oponente):\n",
    "    # Retornar True si gana el jugador \n",
    "    # Piedra gana a Tijera \n",
    "    # Tijera gana a papel\n",
    "    # Papel gana a piedra\n",
    "    \n",
    "    if ((jugador == 'pi' and oponente == 'ti')\n",
    "       or (jugador == 'ti' and oponente == 'pa')\n",
    "       or (jugador == 'pa' and oponente == 'pi')):\n",
    "        \n",
    "        return True\n",
    "    else:\n",
    "        return False \n",
    "\n",
    "print(jugar())"
   ]
  },
  {
   "cell_type": "code",
   "execution_count": 5,
   "id": "7deebd61-ac56-4bb3-94de-4061c5da065c",
   "metadata": {},
   "outputs": [
    {
     "name": "stdin",
     "output_type": "stream",
     "text": [
      "Escoge una opcion: 'pi' para piedra,     'pa' para papel, 'ti' para tijera.\n",
      " pi\n"
     ]
    },
    {
     "data": {
      "text/plain": [
       "'¡Empate!'"
      ]
     },
     "execution_count": 5,
     "metadata": {},
     "output_type": "execute_result"
    }
   ],
   "source": [
    "jugar()"
   ]
  },
  {
   "cell_type": "code",
   "execution_count": 6,
   "id": "1310c875-a1fc-4c79-ae7a-653d18e1c758",
   "metadata": {},
   "outputs": [
    {
     "name": "stdin",
     "output_type": "stream",
     "text": [
      "Escoge una opcion: 'pi' para piedra,     'pa' para papel, 'ti' para tijera.\n",
      " ti\n"
     ]
    },
    {
     "data": {
      "text/plain": [
       "'¡Perdiste!'"
      ]
     },
     "execution_count": 6,
     "metadata": {},
     "output_type": "execute_result"
    }
   ],
   "source": [
    "jugar()"
   ]
  },
  {
   "cell_type": "code",
   "execution_count": 7,
   "id": "54a5652c-d6b8-4a46-b4cd-49ed5a85913a",
   "metadata": {},
   "outputs": [
    {
     "name": "stdin",
     "output_type": "stream",
     "text": [
      "Escoge una opcion: 'pi' para piedra,     'pa' para papel, 'ti' para tijera.\n",
      " pa\n"
     ]
    },
    {
     "data": {
      "text/plain": [
       "'¡Ganaste!'"
      ]
     },
     "execution_count": 7,
     "metadata": {},
     "output_type": "execute_result"
    }
   ],
   "source": [
    "jugar()"
   ]
  },
  {
   "cell_type": "code",
   "execution_count": null,
   "id": "1a4118ef-7fc0-4eff-be03-cf1b04532efe",
   "metadata": {},
   "outputs": [],
   "source": []
  }
 ],
 "metadata": {
  "kernelspec": {
   "display_name": "Python 3",
   "language": "python",
   "name": "python3"
  },
  "language_info": {
   "codemirror_mode": {
    "name": "ipython",
    "version": 3
   },
   "file_extension": ".py",
   "mimetype": "text/x-python",
   "name": "python",
   "nbconvert_exporter": "python",
   "pygments_lexer": "ipython3",
   "version": "3.8.8"
  }
 },
 "nbformat": 4,
 "nbformat_minor": 5
}
